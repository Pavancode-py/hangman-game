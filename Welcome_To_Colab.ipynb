{
  "cells": [
    {
      "cell_type": "markdown",
      "metadata": {
        "id": "view-in-github",
        "colab_type": "text"
      },
      "source": [
        "<a href=\"https://colab.research.google.com/github/Pavancode-py/hangman-game/blob/main/Welcome_To_Colab.ipynb\" target=\"_parent\"><img src=\"https://colab.research.google.com/assets/colab-badge.svg\" alt=\"Open In Colab\"/></a>"
      ]
    },
    {
      "cell_type": "code",
      "source": [
        "# HANGMAN\n",
        "import random\n",
        "print('''Welcome to\n",
        "| |__   __ _ _ __   __ _ _ __ ___   __ _ _ __\n",
        "| '_ / / _` | '_ / / _` | '_ ` _ / / _` | '_ /\n",
        "| | | | (_| | | | | (_| | | | | | | (_| | | | |\n",
        "|_| |_|/__,_|_| |_|/__, |_| |_| |_|/__,_|_| |_|\n",
        "                    __/ |\n",
        "                   |___/                        game''')\n",
        "stages = ['''\n",
        "     _______\n",
        "     |/     |\n",
        "     |     (_)\n",
        "     |     /|/\n",
        "     |      |\n",
        "     |     / /\n",
        "     |\n",
        "    _|___ ''', '''\n",
        "    _______\n",
        "     |/     |\n",
        "     |     (_)\n",
        "     |     /|/\n",
        "     |      |\n",
        "     |     /\n",
        "     |\n",
        "    _|___ ''','''\n",
        "    _______\n",
        "     |/     |\n",
        "     |     (_)\n",
        "     |     /|/\n",
        "     |      |\n",
        "     |\n",
        "     |\n",
        "    _|___ ''','''\n",
        "    _______\n",
        "     |/     |\n",
        "     |     (_)\n",
        "     |      |\n",
        "     |      |\n",
        "     |\n",
        "     |\n",
        "    _|___ ''','''\n",
        "    _______\n",
        "     |/     |\n",
        "     |     (_)\n",
        "     |      |\n",
        "     |\n",
        "     |\n",
        "     |\n",
        "    _|___ ''','''\n",
        "    _______\n",
        "     |/     |\n",
        "     |     (_)\n",
        "     |\n",
        "     |\n",
        "     |\n",
        "     |\n",
        "    _|___ ''','''\n",
        "    _______\n",
        "     |/     |\n",
        "     |\n",
        "     |\n",
        "     |\n",
        "     |\n",
        "     |\n",
        "    _|__\n",
        "''']\n",
        "\n",
        "word_list=['avenue','awkward','axiom','azure','bagpipes','bandwagon','banjo','bayou','beekeeper','bikini','blitz','blizzard','boggle','bookworm','boxcar','boxful','buckaroo','buffalo','buffoon','buxom','buzzard','buzzing','buzzwords','caliph','cobweb','cockiness','croquet','crypt','curacao','cycle','daiquiri','dirndl','disavow','dizzying','duplex','dwarves','embezzle','equip','espionage','euouae','exodus','faking','fishhook','fixable','fjord','flapjack','flopping','fluffiness','flyby','foxglove','frazzled','frizzled','fuchsia','funny','gabby','galaxy','galvanize','gazebo','giaour','gizmo','glowworm','glyph','gnarly','gnostic','gossip','grogginess','haiku','haphazard','hyphen','iatrogenic','icebox','injury','ivory','ivy','jackpot','jaundice','jawbreaker','jaywalk','jazziest','jazzy','jelly','jigsaw','jinx','jiujitsu','jockey','jogging','joking','jovial','joyful','juicy','jukebox','jumbo','kayak','kazoo','keyhole','khaki','kilobyte','kiosk','kitsch','kiwifruit','klutz','knapsack','larynx','lengths','lucky','luxury','lymph','marquis','matrix','megahertz','microwave','mnemonic','mystify','naphtha','nightclub','nowadays','numbskull','nymph','onyx','ovary','oxidize','oxygen','pajama','peekaboo','phlegm','pixel','pizazz','pneumonia','polka','pshaw','psyche','puppy','puzzling','quartz','queue','quixotic','quiz','quizzes','quorum','rhubarb','rhythm','rickshaw','schnapps','scratch','shiv','snazzy','sphinx','spritz','squawk','staff','strength','stretch','stronghold','stymied','subway','swivel','syndrome','thriftless','thumbscrew','topaz','transcript','transgress','triphthong','twelfth','twelfths','unknown','unworthy','unzip','uptown','vaporize','vixen','vodka',\"voodoo\",\"vortex\",\"voyeurism\",\"walkway\",\"waltz\",\"wave\",\"wavy\",\"waxy\",\"wellspring\",\"wheezy\",\"whiskey\", \"whizzing\", \"whomever\", \"wimpy\",\"witchcraft\", \"wizard\" ,\"woozy\", \"wristwatch\", \"wyvern\", \"xylophone\", \"yachtsman\", \"yippee\", \"yoked\", \"youthful\", \"yummy\", \"zephyr\", \"zigzag\", \"zigzagging\", \"zilch\", \"zipper\", \"zodiac\", \"zombie\"]\n",
        "lives = 6\n",
        "chosen_word=random.choice(word_list)\n",
        "print(\"It's a\", len(chosen_word), \"letters word\")\n",
        "\n",
        "placeholder=\"\"\n",
        "word_length=len(chosen_word)\n",
        "for position in range(word_length):\n",
        "    placeholder+= \" _ \"\n",
        "print(placeholder)\n",
        "\n",
        "\n",
        "game_over = False\n",
        "correct_letters=[]\n",
        "while not game_over:\n",
        "    guess=input(\"Guess a letter:\").lower()\n",
        "\n",
        "    if guess in correct_letters:\n",
        "        print(f\"You have already guessed the letter {guess}\")\n",
        "    display = \"\"\n",
        "    for letter in chosen_word:\n",
        "        if letter==guess:\n",
        "           display+=letter\n",
        "           correct_letters.append(guess)\n",
        "        elif letter in correct_letters:\n",
        "            display+=letter\n",
        "        else:\n",
        "            display += \" _ \"\n",
        "    print(display)\n",
        "    if guess not in chosen_word:\n",
        "        lives -= 1\n",
        "        if lives == 0:\n",
        "            game_over=True\n",
        "            print(f\"You hanged. Game over! Word is *{chosen_word}* Better luck next time🤞\")\n",
        "\n",
        "\n",
        "    if \" _ \" not in display:\n",
        "        game_over = False\n",
        "        print(f\" Congrats 🎉. You guessed the *{chosen_word}* You win!\")\n",
        "    print(stages[lives])"
      ],
      "metadata": {
        "colab": {
          "base_uri": "https://localhost:8080/"
        },
        "id": "E1I4T_fo8hz0",
        "outputId": "7ef797ab-894d-419a-c7b4-796cf77048ab"
      },
      "execution_count": null,
      "outputs": [
        {
          "output_type": "stream",
          "name": "stdout",
          "text": [
            "Welcome to                                           \n",
            "| |__   __ _ _ __   __ _ _ __ ___   __ _ _ __  \n",
            "| '_ / / _` | '_ / / _` | '_ ` _ / / _` | '_ / \n",
            "| | | | (_| | | | | (_| | | | | | | (_| | | | |\n",
            "|_| |_|/__,_|_| |_|/__, |_| |_| |_|/__,_|_| |_|\n",
            "                    __/ |                      \n",
            "                   |___/                        game\n",
            "It's a 8 letters word\n",
            " _  _  _  _  _  _  _  _ \n"
          ]
        }
      ]
    },
    {
      "cell_type": "markdown",
      "source": [
        "# New Section"
      ],
      "metadata": {
        "id": "8S4nLs4G8t0j"
      }
    }
  ],
  "metadata": {
    "colab": {
      "name": "Welcome To Colab",
      "toc_visible": true,
      "provenance": [],
      "include_colab_link": true
    },
    "kernelspec": {
      "display_name": "Python 3",
      "name": "python3"
    }
  },
  "nbformat": 4,
  "nbformat_minor": 0
}