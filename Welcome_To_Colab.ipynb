{
  "cells": [
    {
      "cell_type": "markdown",
      "metadata": {
        "id": "view-in-github",
        "colab_type": "text"
      },
      "source": [
        "<a href=\"https://colab.research.google.com/github/Pavancode-py/hangman-game/blob/main/Welcome_To_Colab.ipynb\" target=\"_parent\"><img src=\"https://colab.research.google.com/assets/colab-badge.svg\" alt=\"Open In Colab\"/></a>"
      ]
    },
    {
      "cell_type": "code",
      "source": [
        "# HANGMAN\n",
        "import random\n",
        "print('''Welcome to\n",
        "| |__   __ _ _ __   __ _ _ __ ___   __ _ _ __\n",
        "| '_ / / _` | '_ / / _` | '_ ` _ / / _` | '_ /\n",
        "| | | | (_| | | | | (_| | | | | | | (_| | | | |\n",
        "|_| |_|/__,_|_| |_|/__, |_| |_| |_|/__,_|_| |_|\n",
        "                    __/ |\n",
        "                   |___/                        game''')\n",
        "lives = 6\n",
        "chosen_word=random.choice(word_list)\n",
        "print(\"It's a\", len(chosen_word), \"letters word\")\n",
        "\n",
        "placeholder=\"\"\n",
        "word_length=len(chosen_word)\n",
        "for position in range(word_length):\n",
        "    placeholder+= \" _ \"\n",
        "print(placeholder)\n",
        "\n",
        "game_over = False\n",
        "correct_letters=[]\n",
        "while not game_over:\n",
        "    guess=input(\"Guess a letter:\").lower()\n",
        "    if guess in correct_letters:\n",
        "        print(f\"You have already guessed the letter {guess}\")\n",
        "    display = \"\"\n",
        "    for letter in chosen_word:\n",
        "        if letter==guess:\n",
        "           display+=letter\n",
        "           correct_letters.append(guess)\n",
        "        elif letter in correct_letters:\n",
        "            display+=letter\n",
        "        else:\n",
        "            display += \" _ \"\n",
        "    print(display)\n",
        "    if guess not in chosen_word:\n",
        "        lives -= 1\n",
        "        if lives == 0:\n",
        "            game_over=True\n",
        "            print(f\"You hanged. Game over! Word is *{chosen_word}* Better luck next time🤞\")\n",
        "\n",
        "\n",
        "    if \" _ \" not in display:\n",
        "        game_over = False\n",
        "        print(f\" Congrats 🎉. You guessed the *{chosen_word}* You win!\")\n",
        "    print(stages[lives])"
      ],
      "metadata": {
        "id": "VkCpc8fYAugZ"
      },
      "execution_count": null,
      "outputs": []
    }
  ],
  "metadata": {
    "colab": {
      "name": "Welcome To Colab",
      "provenance": [],
      "include_colab_link": true
    },
    "kernelspec": {
      "display_name": "Python 3",
      "name": "python3"
    }
  },
  "nbformat": 4,
  "nbformat_minor": 0
}